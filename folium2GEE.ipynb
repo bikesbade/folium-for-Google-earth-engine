{
 "cells": [
  {
   "cell_type": "code",
   "execution_count": 1,
   "metadata": {},
   "outputs": [
    {
     "name": "stdout",
     "output_type": "stream",
     "text": [
      "Initialized\n"
     ]
    }
   ],
   "source": [
    "# import Google earth engine module\n",
    "import ee\n",
    "\n",
    "#folium\n",
    "from general.myfolium import *\n",
    "\n",
    "#import data\n",
    "from general.importData import importData\n",
    "\n",
    "#Authenticate the Google earth engine with google account\n",
    "ee.Initialize()\n",
    "\n",
    "print('Initialized')"
   ]
  },
  {
   "cell_type": "code",
   "execution_count": 2,
   "metadata": {},
   "outputs": [
    {
     "name": "stdout",
     "output_type": "stream",
     "text": [
      "folium map Initialized\n"
     ]
    }
   ],
   "source": [
    "# Create a folium map object.\n",
    "location=[28.5973518, 83.54495724]\n",
    "mapObject = foliumInitialize(location,6,600)\n",
    "my_map = mapObject.Initialize()\n",
    "\n",
    "print('folium map Initialized')"
   ]
  },
  {
   "cell_type": "code",
   "execution_count": 3,
   "metadata": {},
   "outputs": [
    {
     "name": "stdout",
     "output_type": "stream",
     "text": [
      "getting images\n"
     ]
    }
   ],
   "source": [
    "startyear = 2019\n",
    "endyear = 2019\n",
    "\n",
    "startDate = ee.Date.fromYMD(startyear,1,1)\n",
    "endDate = ee.Date.fromYMD(endyear,12,31)\n",
    "\n",
    "#gee assets to get the study area\n",
    "studyArea = ee.FeatureCollection('users/bikesbade/bankey/banke')\n",
    "\n",
    "print(\"getting images\")\n",
    "s2 = importData(studyArea,startDate,endDate)"
   ]
  },
  {
   "cell_type": "code",
   "execution_count": 4,
   "metadata": {},
   "outputs": [
    {
     "name": "stdout",
     "output_type": "stream",
     "text": [
      "basemap added\n"
     ]
    }
   ],
   "source": [
    "# Add custom basemaps\n",
    "#initialize the base map class\n",
    "basemaps = addbasemaps(my_map)\n",
    "\n",
    "#for google map\n",
    "basemaps.googleMap()\n",
    "\n",
    "#for google Satellite\n",
    "basemaps.GoogleSatellite()\n",
    "\n",
    "#for google Terrain\n",
    "basemaps.GoogleTerrain()\n",
    "\n",
    "#for google Hybrid\n",
    "basemaps.GoogleSatelliteHybrid()\n",
    "\n",
    "print('basemap added')"
   ]
  },
  {
   "cell_type": "code",
   "execution_count": 5,
   "metadata": {},
   "outputs": [
    {
     "name": "stdout",
     "output_type": "stream",
     "text": [
      "Map Added\n"
     ]
    }
   ],
   "source": [
    "#Add map to layer to Folium \n",
    "my_map.add_ee_layer(s2, {'min':0,'max':0.6,'bands':\"red,green,nir\"}, \"Sentinel\")\n",
    "print('Map Added')\n"
   ]
  },
  {
   "cell_type": "code",
   "execution_count": 6,
   "metadata": {},
   "outputs": [
    {
     "name": "stdout",
     "output_type": "stream",
     "text": [
      "tools added\n"
     ]
    }
   ],
   "source": [
    "#initalize the plugin\n",
    "tools = pluginsTools(my_map)\n",
    "\n",
    "#layer control \n",
    "tools.addLayerControl()\n",
    "\n",
    "#Add addFullscreen \n",
    "tools.addFullscreen()\n",
    "\n",
    "#Add LocateControl \n",
    "tools.addLocateControl()\n",
    "\n",
    "#Add MousePosition \n",
    "tools.addMousePosition()\n",
    "\n",
    "#Add MeasureControl \n",
    "tools.addMeasureControl()\n",
    "\n",
    "#Add DrawTool \n",
    "tools.addDrawTool()\n",
    "\n",
    "\n",
    "print('tools added')"
   ]
  },
  {
   "cell_type": "code",
   "execution_count": 7,
   "metadata": {},
   "outputs": [
    {
     "data": {
      "text/html": [
       "<div style=\"width:100%;\"><div style=\"position:relative;width:100%;height:0;padding-bottom:60%;\"><iframe src=\"data:text/html;charset=utf-8;base64,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\" style=\"position:absolute;width:100%;height:100%;left:0;top:0;border:none !important;\" allowfullscreen webkitallowfullscreen mozallowfullscreen></iframe></div></div>"
      ],
      "text/plain": [
       "<folium.folium.Map at 0x155653918d0>"
      ]
     },
     "metadata": {},
     "output_type": "display_data"
    }
   ],
   "source": [
    "# Display the map.\n",
    "display(my_map)"
   ]
  },
  {
   "cell_type": "code",
   "execution_count": null,
   "metadata": {},
   "outputs": [],
   "source": []
  }
 ],
 "metadata": {
  "kernelspec": {
   "display_name": "Python 3",
   "language": "python",
   "name": "python3"
  },
  "language_info": {
   "codemirror_mode": {
    "name": "ipython",
    "version": 3
   },
   "file_extension": ".py",
   "mimetype": "text/x-python",
   "name": "python",
   "nbconvert_exporter": "python",
   "pygments_lexer": "ipython3",
   "version": "3.6.10"
  }
 },
 "nbformat": 4,
 "nbformat_minor": 4
}
